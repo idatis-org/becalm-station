{
 "cells": [
  {
   "cell_type": "code",
   "execution_count": null,
   "metadata": {},
   "outputs": [],
   "source": [
    "from max30100 import *\n",
    "import time\n",
    "import json"
   ]
  },
  {
   "cell_type": "code",
   "execution_count": null,
   "metadata": {},
   "outputs": [],
   "source": []
  },
  {
   "cell_type": "code",
   "execution_count": null,
   "metadata": {},
   "outputs": [],
   "source": [
    "mx30 = MAX30100()\n",
    "\n",
    "mx30.enable_spo2()"
   ]
  },
  {
   "cell_type": "code",
   "execution_count": null,
   "metadata": {},
   "outputs": [],
   "source": []
  },
  {
   "cell_type": "code",
   "execution_count": null,
   "metadata": {},
   "outputs": [],
   "source": [
    "def create_values(t):\n",
    "    read_values = {}\n",
    "    t1 = time.time()\n",
    "    count = 0\n",
    "    while (time.time()-t1) < t:\n",
    "        mx30.read_sensor()\n",
    "        ir = mx30.ir\n",
    "        red = mx30.red\n",
    "        read_values[count] = {\"ir\": ir, \"red\": red}\n",
    "        count += 1\n",
    "    print(\"remove finger\")\n",
    "    return read_values\n",
    "\n",
    "def filtered_output(x, prev_w, alpha):\n",
    "    filtered_w = x + alpha * prev_w\n",
    "    y = filtered_w - prev_w\n",
    "    return filtered_w, y\n",
    "\n",
    "def dcremoval(values, start_w, alpha):\n",
    "    filtered_values = {}\n",
    "    w_r = start_w\n",
    "    w_ir = start_w\n",
    "    for item in values:\n",
    "        temp_ir = filtered_output(values[item][\"ir\"], w_ir, alpha)\n",
    "        temp_r = filtered_output(values[item][\"red\"], w_r, alpha)\n",
    "        w_ir,y_ir = temp_ir\n",
    "        w_r,y_r = temp_r\n",
    "        filtered_values[item] = {\"ir\": y_ir, \"r\": y_r}\n",
    "    return filtered_values "
   ]
  },
  {
   "cell_type": "code",
   "execution_count": null,
   "metadata": {},
   "outputs": [],
   "source": [
    "values = create_values(10)\n",
    "filtered_values = dcremoval(values, 0, 0.95)\n",
    "print(filtered_values)"
   ]
  },
  {
   "cell_type": "code",
   "execution_count": null,
   "metadata": {},
   "outputs": [],
   "source": []
  },
  {
   "cell_type": "code",
   "execution_count": null,
   "metadata": {},
   "outputs": [],
   "source": []
  },
  {
   "cell_type": "code",
   "execution_count": null,
   "metadata": {},
   "outputs": [],
   "source": []
  },
  {
   "cell_type": "code",
   "execution_count": null,
   "metadata": {},
   "outputs": [],
   "source": []
  },
  {
   "cell_type": "code",
   "execution_count": null,
   "metadata": {},
   "outputs": [],
   "source": []
  }
 ],
 "metadata": {
  "kernelspec": {
   "display_name": "Python 3",
   "language": "python",
   "name": "python3"
  },
  "language_info": {
   "name": ""
  }
 },
 "nbformat": 4,
 "nbformat_minor": 4
}
